{
 "cells": [
  {
   "cell_type": "markdown",
   "metadata": {},
   "source": [
    "## Análisis del Mercado de Airbnb en Santo Domingo Este."
   ]
  },
  {
   "cell_type": "code",
   "execution_count": 48,
   "metadata": {},
   "outputs": [],
   "source": [
    "import pandas as pd\n",
    "import matplotlib.pyplot as plt\n",
    "import numpy as np\n",
    "import seaborn as sns\n",
    "from statsmodels.formula.api import ols \n",
    "import statsmodels.api as sm"
   ]
  },
  {
   "cell_type": "code",
   "execution_count": 2,
   "metadata": {},
   "outputs": [],
   "source": [
    "airbnb= pd.read_csv(\"airbnb1.csv\",delimiter= \",\")"
   ]
  },
  {
   "cell_type": "code",
   "execution_count": 3,
   "metadata": {},
   "outputs": [
    {
     "data": {
      "text/html": [
       "<div>\n",
       "<style scoped>\n",
       "    .dataframe tbody tr th:only-of-type {\n",
       "        vertical-align: middle;\n",
       "    }\n",
       "\n",
       "    .dataframe tbody tr th {\n",
       "        vertical-align: top;\n",
       "    }\n",
       "\n",
       "    .dataframe thead th {\n",
       "        text-align: right;\n",
       "    }\n",
       "</style>\n",
       "<table border=\"1\" class=\"dataframe\">\n",
       "  <thead>\n",
       "    <tr style=\"text-align: right;\">\n",
       "      <th></th>\n",
       "      <th>UID</th>\n",
       "      <th>Listing URL</th>\n",
       "      <th>Listing Title</th>\n",
       "      <th>Property Type</th>\n",
       "      <th>Arrangement Type</th>\n",
       "      <th>Longitude</th>\n",
       "      <th>Latitude</th>\n",
       "      <th>City</th>\n",
       "      <th>Currency Local</th>\n",
       "      <th>Bedrooms</th>\n",
       "      <th>...</th>\n",
       "      <th>Max_Guests</th>\n",
       "      <th>Overall_Rating</th>\n",
       "      <th>Pets_Allowed</th>\n",
       "      <th>Amenities</th>\n",
       "      <th>Security Deposit (USD)</th>\n",
       "      <th>Created_Date</th>\n",
       "      <th>Number_of_Reviews</th>\n",
       "      <th>Number_of_Photos</th>\n",
       "      <th>Occupancy_Rate</th>\n",
       "      <th>Avg_price</th>\n",
       "    </tr>\n",
       "  </thead>\n",
       "  <tbody>\n",
       "    <tr>\n",
       "      <th>0</th>\n",
       "      <td>10461821.0</td>\n",
       "      <td>https://www.airbnb.com/rooms/10461821</td>\n",
       "      <td>Modern and colorful condo</td>\n",
       "      <td>apartment</td>\n",
       "      <td>Entire Home</td>\n",
       "      <td>-69.84363</td>\n",
       "      <td>18.47209</td>\n",
       "      <td>NaN</td>\n",
       "      <td>NaN</td>\n",
       "      <td>2</td>\n",
       "      <td>...</td>\n",
       "      <td>5</td>\n",
       "      <td>90</td>\n",
       "      <td>Yes</td>\n",
       "      <td>24 hour check in,air conditioning,bedroom esse...</td>\n",
       "      <td>NaN</td>\n",
       "      <td>2/15/2016</td>\n",
       "      <td>22</td>\n",
       "      <td>29</td>\n",
       "      <td>50%</td>\n",
       "      <td>26.222222</td>\n",
       "    </tr>\n",
       "    <tr>\n",
       "      <th>1</th>\n",
       "      <td>11378360.0</td>\n",
       "      <td>https://www.airbnb.com/rooms/11378360</td>\n",
       "      <td>B/b Paolo e Angelina</td>\n",
       "      <td>bed and breakfast</td>\n",
       "      <td>Private Room</td>\n",
       "      <td>-69.84184</td>\n",
       "      <td>18.49001</td>\n",
       "      <td>NaN</td>\n",
       "      <td>NaN</td>\n",
       "      <td>2</td>\n",
       "      <td>...</td>\n",
       "      <td>4</td>\n",
       "      <td>100</td>\n",
       "      <td>Yes</td>\n",
       "      <td>24 hour check in,breakfast included,cable tv,d...</td>\n",
       "      <td>0.0</td>\n",
       "      <td>7/8/2016</td>\n",
       "      <td>3</td>\n",
       "      <td>18</td>\n",
       "      <td>0%</td>\n",
       "      <td>0.000000</td>\n",
       "    </tr>\n",
       "    <tr>\n",
       "      <th>2</th>\n",
       "      <td>17345815.0</td>\n",
       "      <td>https://www.airbnb.com/rooms/17345815</td>\n",
       "      <td>☀A Vibrant Waterfront Gated Residential Commun...</td>\n",
       "      <td>condo</td>\n",
       "      <td>Entire Home</td>\n",
       "      <td>-69.87977</td>\n",
       "      <td>18.47937</td>\n",
       "      <td>NaN</td>\n",
       "      <td>NaN</td>\n",
       "      <td>3</td>\n",
       "      <td>...</td>\n",
       "      <td>5</td>\n",
       "      <td>100</td>\n",
       "      <td>No</td>\n",
       "      <td>24 hour check in,air conditioning,bedroom esse...</td>\n",
       "      <td>0.0</td>\n",
       "      <td>6/17/2019</td>\n",
       "      <td>71</td>\n",
       "      <td>37</td>\n",
       "      <td>83%</td>\n",
       "      <td>62.878788</td>\n",
       "    </tr>\n",
       "    <tr>\n",
       "      <th>3</th>\n",
       "      <td>17505139.0</td>\n",
       "      <td>https://www.airbnb.com/rooms/17505139</td>\n",
       "      <td>Los Molinos, Apartamento 2do piso con terraza</td>\n",
       "      <td>apartment</td>\n",
       "      <td>Entire Home</td>\n",
       "      <td>-69.78842</td>\n",
       "      <td>18.46908</td>\n",
       "      <td>NaN</td>\n",
       "      <td>NaN</td>\n",
       "      <td>2</td>\n",
       "      <td>...</td>\n",
       "      <td>4</td>\n",
       "      <td>100</td>\n",
       "      <td>No</td>\n",
       "      <td>air conditioning,bedroom essentials,cable tv,c...</td>\n",
       "      <td>0.0</td>\n",
       "      <td>2/28/2017</td>\n",
       "      <td>41</td>\n",
       "      <td>25</td>\n",
       "      <td>64%</td>\n",
       "      <td>30.363636</td>\n",
       "    </tr>\n",
       "    <tr>\n",
       "      <th>4</th>\n",
       "      <td>11493309.0</td>\n",
       "      <td>https://www.airbnb.com/rooms/11493309</td>\n",
       "      <td>Cheap condo with AC</td>\n",
       "      <td>condo</td>\n",
       "      <td>Entire Home</td>\n",
       "      <td>-69.8436</td>\n",
       "      <td>18.47216</td>\n",
       "      <td>NaN</td>\n",
       "      <td>NaN</td>\n",
       "      <td>2</td>\n",
       "      <td>...</td>\n",
       "      <td>5</td>\n",
       "      <td>90</td>\n",
       "      <td>Yes</td>\n",
       "      <td>24 hour check in,air conditioning,bedroom esse...</td>\n",
       "      <td>NaN</td>\n",
       "      <td>7/8/2016</td>\n",
       "      <td>19</td>\n",
       "      <td>20</td>\n",
       "      <td>39%</td>\n",
       "      <td>22.560000</td>\n",
       "    </tr>\n",
       "  </tbody>\n",
       "</table>\n",
       "<p>5 rows × 21 columns</p>\n",
       "</div>"
      ],
      "text/plain": [
       "          UID                            Listing URL  \\\n",
       "0  10461821.0  https://www.airbnb.com/rooms/10461821   \n",
       "1  11378360.0  https://www.airbnb.com/rooms/11378360   \n",
       "2  17345815.0  https://www.airbnb.com/rooms/17345815   \n",
       "3  17505139.0  https://www.airbnb.com/rooms/17505139   \n",
       "4  11493309.0  https://www.airbnb.com/rooms/11493309   \n",
       "\n",
       "                                       Listing Title      Property Type  \\\n",
       "0                          Modern and colorful condo          apartment   \n",
       "1                               B/b Paolo e Angelina  bed and breakfast   \n",
       "2  ☀A Vibrant Waterfront Gated Residential Commun...              condo   \n",
       "3      Los Molinos, Apartamento 2do piso con terraza          apartment   \n",
       "4                                Cheap condo with AC              condo   \n",
       "\n",
       "  Arrangement Type  Longitude  Latitude  City  Currency Local  Bedrooms  ...  \\\n",
       "0      Entire Home  -69.84363  18.47209   NaN             NaN         2  ...   \n",
       "1     Private Room  -69.84184  18.49001   NaN             NaN         2  ...   \n",
       "2      Entire Home  -69.87977  18.47937   NaN             NaN         3  ...   \n",
       "3      Entire Home  -69.78842  18.46908   NaN             NaN         2  ...   \n",
       "4      Entire Home   -69.8436  18.47216   NaN             NaN         2  ...   \n",
       "\n",
       "   Max_Guests  Overall_Rating  Pets_Allowed  \\\n",
       "0           5              90           Yes   \n",
       "1           4             100           Yes   \n",
       "2           5             100            No   \n",
       "3           4             100            No   \n",
       "4           5              90           Yes   \n",
       "\n",
       "                                           Amenities Security Deposit (USD)  \\\n",
       "0  24 hour check in,air conditioning,bedroom esse...                    NaN   \n",
       "1  24 hour check in,breakfast included,cable tv,d...                    0.0   \n",
       "2  24 hour check in,air conditioning,bedroom esse...                    0.0   \n",
       "3  air conditioning,bedroom essentials,cable tv,c...                    0.0   \n",
       "4  24 hour check in,air conditioning,bedroom esse...                    NaN   \n",
       "\n",
       "   Created_Date Number_of_Reviews  Number_of_Photos  Occupancy_Rate  Avg_price  \n",
       "0     2/15/2016                22                29             50%  26.222222  \n",
       "1      7/8/2016                 3                18              0%   0.000000  \n",
       "2     6/17/2019                71                37             83%  62.878788  \n",
       "3     2/28/2017                41                25             64%  30.363636  \n",
       "4      7/8/2016                19                20             39%  22.560000  \n",
       "\n",
       "[5 rows x 21 columns]"
      ]
     },
     "execution_count": 3,
     "metadata": {},
     "output_type": "execute_result"
    }
   ],
   "source": [
    "airbnb.head(5)"
   ]
  },
  {
   "cell_type": "code",
   "execution_count": 4,
   "metadata": {},
   "outputs": [],
   "source": [
    "data=airbnb[['Bedrooms','Bathrooms','Max_Guests','Pets_Allowed','Amenities','Created_Date','Overall_Rating','Number_of_Reviews','Number_of_Photos','Occupancy_Rate','Avg_price']]"
   ]
  },
  {
   "cell_type": "code",
   "execution_count": 5,
   "metadata": {},
   "outputs": [
    {
     "data": {
      "text/html": [
       "<div>\n",
       "<style scoped>\n",
       "    .dataframe tbody tr th:only-of-type {\n",
       "        vertical-align: middle;\n",
       "    }\n",
       "\n",
       "    .dataframe tbody tr th {\n",
       "        vertical-align: top;\n",
       "    }\n",
       "\n",
       "    .dataframe thead th {\n",
       "        text-align: right;\n",
       "    }\n",
       "</style>\n",
       "<table border=\"1\" class=\"dataframe\">\n",
       "  <thead>\n",
       "    <tr style=\"text-align: right;\">\n",
       "      <th></th>\n",
       "      <th>Bedrooms</th>\n",
       "      <th>Bathrooms</th>\n",
       "      <th>Max_Guests</th>\n",
       "      <th>Pets_Allowed</th>\n",
       "      <th>Amenities</th>\n",
       "      <th>Created_Date</th>\n",
       "      <th>Overall_Rating</th>\n",
       "      <th>Number_of_Reviews</th>\n",
       "      <th>Number_of_Photos</th>\n",
       "      <th>Occupancy_Rate</th>\n",
       "      <th>Avg_price</th>\n",
       "    </tr>\n",
       "  </thead>\n",
       "  <tbody>\n",
       "    <tr>\n",
       "      <th>0</th>\n",
       "      <td>2</td>\n",
       "      <td>1</td>\n",
       "      <td>5</td>\n",
       "      <td>Yes</td>\n",
       "      <td>24 hour check in,air conditioning,bedroom esse...</td>\n",
       "      <td>2/15/2016</td>\n",
       "      <td>90</td>\n",
       "      <td>22</td>\n",
       "      <td>29</td>\n",
       "      <td>50%</td>\n",
       "      <td>26.222222</td>\n",
       "    </tr>\n",
       "    <tr>\n",
       "      <th>1</th>\n",
       "      <td>2</td>\n",
       "      <td>2</td>\n",
       "      <td>4</td>\n",
       "      <td>Yes</td>\n",
       "      <td>24 hour check in,breakfast included,cable tv,d...</td>\n",
       "      <td>7/8/2016</td>\n",
       "      <td>100</td>\n",
       "      <td>3</td>\n",
       "      <td>18</td>\n",
       "      <td>0%</td>\n",
       "      <td>0.000000</td>\n",
       "    </tr>\n",
       "    <tr>\n",
       "      <th>2</th>\n",
       "      <td>3</td>\n",
       "      <td>2</td>\n",
       "      <td>5</td>\n",
       "      <td>No</td>\n",
       "      <td>24 hour check in,air conditioning,bedroom esse...</td>\n",
       "      <td>6/17/2019</td>\n",
       "      <td>100</td>\n",
       "      <td>71</td>\n",
       "      <td>37</td>\n",
       "      <td>83%</td>\n",
       "      <td>62.878788</td>\n",
       "    </tr>\n",
       "    <tr>\n",
       "      <th>3</th>\n",
       "      <td>2</td>\n",
       "      <td>2</td>\n",
       "      <td>4</td>\n",
       "      <td>No</td>\n",
       "      <td>air conditioning,bedroom essentials,cable tv,c...</td>\n",
       "      <td>2/28/2017</td>\n",
       "      <td>100</td>\n",
       "      <td>41</td>\n",
       "      <td>25</td>\n",
       "      <td>64%</td>\n",
       "      <td>30.363636</td>\n",
       "    </tr>\n",
       "    <tr>\n",
       "      <th>4</th>\n",
       "      <td>2</td>\n",
       "      <td>1</td>\n",
       "      <td>5</td>\n",
       "      <td>Yes</td>\n",
       "      <td>24 hour check in,air conditioning,bedroom esse...</td>\n",
       "      <td>7/8/2016</td>\n",
       "      <td>90</td>\n",
       "      <td>19</td>\n",
       "      <td>20</td>\n",
       "      <td>39%</td>\n",
       "      <td>22.560000</td>\n",
       "    </tr>\n",
       "  </tbody>\n",
       "</table>\n",
       "</div>"
      ],
      "text/plain": [
       "   Bedrooms  Bathrooms  Max_Guests Pets_Allowed  \\\n",
       "0         2          1           5          Yes   \n",
       "1         2          2           4          Yes   \n",
       "2         3          2           5           No   \n",
       "3         2          2           4           No   \n",
       "4         2          1           5          Yes   \n",
       "\n",
       "                                           Amenities Created_Date  \\\n",
       "0  24 hour check in,air conditioning,bedroom esse...    2/15/2016   \n",
       "1  24 hour check in,breakfast included,cable tv,d...     7/8/2016   \n",
       "2  24 hour check in,air conditioning,bedroom esse...    6/17/2019   \n",
       "3  air conditioning,bedroom essentials,cable tv,c...    2/28/2017   \n",
       "4  24 hour check in,air conditioning,bedroom esse...     7/8/2016   \n",
       "\n",
       "   Overall_Rating  Number_of_Reviews  Number_of_Photos Occupancy_Rate  \\\n",
       "0              90                 22                29            50%   \n",
       "1             100                  3                18             0%   \n",
       "2             100                 71                37            83%   \n",
       "3             100                 41                25            64%   \n",
       "4              90                 19                20            39%   \n",
       "\n",
       "   Avg_price  \n",
       "0  26.222222  \n",
       "1   0.000000  \n",
       "2  62.878788  \n",
       "3  30.363636  \n",
       "4  22.560000  "
      ]
     },
     "execution_count": 5,
     "metadata": {},
     "output_type": "execute_result"
    }
   ],
   "source": [
    "data.head(5)"
   ]
  },
  {
   "cell_type": "code",
   "execution_count": 6,
   "metadata": {},
   "outputs": [
    {
     "name": "stdout",
     "output_type": "stream",
     "text": [
      "<class 'pandas.core.frame.DataFrame'>\n",
      "RangeIndex: 834 entries, 0 to 833\n",
      "Data columns (total 11 columns):\n",
      " #   Column             Non-Null Count  Dtype  \n",
      "---  ------             --------------  -----  \n",
      " 0   Bedrooms           834 non-null    int64  \n",
      " 1   Bathrooms          834 non-null    int64  \n",
      " 2   Max_Guests         834 non-null    int64  \n",
      " 3   Pets_Allowed       834 non-null    object \n",
      " 4   Amenities          833 non-null    object \n",
      " 5   Created_Date       834 non-null    object \n",
      " 6   Overall_Rating     834 non-null    int64  \n",
      " 7   Number_of_Reviews  834 non-null    int64  \n",
      " 8   Number_of_Photos   834 non-null    int64  \n",
      " 9   Occupancy_Rate     834 non-null    object \n",
      " 10  Avg_price          834 non-null    float64\n",
      "dtypes: float64(1), int64(6), object(4)\n",
      "memory usage: 71.8+ KB\n"
     ]
    }
   ],
   "source": [
    "data.info()"
   ]
  },
  {
   "cell_type": "code",
   "execution_count": 7,
   "metadata": {},
   "outputs": [
    {
     "data": {
      "text/plain": [
       "Bedrooms             0\n",
       "Bathrooms            0\n",
       "Max_Guests           0\n",
       "Pets_Allowed         0\n",
       "Amenities            1\n",
       "Created_Date         0\n",
       "Overall_Rating       0\n",
       "Number_of_Reviews    0\n",
       "Number_of_Photos     0\n",
       "Occupancy_Rate       0\n",
       "Avg_price            0\n",
       "dtype: int64"
      ]
     },
     "execution_count": 7,
     "metadata": {},
     "output_type": "execute_result"
    }
   ],
   "source": [
    "data.isnull().sum()"
   ]
  },
  {
   "cell_type": "code",
   "execution_count": 8,
   "metadata": {},
   "outputs": [
    {
     "name": "stderr",
     "output_type": "stream",
     "text": [
      "<ipython-input-8-1edeb318a43a>:1: SettingWithCopyWarning: \n",
      "A value is trying to be set on a copy of a slice from a DataFrame\n",
      "\n",
      "See the caveats in the documentation: https://pandas.pydata.org/pandas-docs/stable/user_guide/indexing.html#returning-a-view-versus-a-copy\n",
      "  data.dropna(axis=0, inplace=True)\n"
     ]
    }
   ],
   "source": [
    "data.dropna(axis=0, inplace=True)"
   ]
  },
  {
   "cell_type": "code",
   "execution_count": 9,
   "metadata": {},
   "outputs": [],
   "source": [
    "from datetime import date\n",
    "import datetime\n",
    "import time"
   ]
  },
  {
   "cell_type": "code",
   "execution_count": 10,
   "metadata": {},
   "outputs": [
    {
     "name": "stderr",
     "output_type": "stream",
     "text": [
      "<ipython-input-10-b8d703b3e4a8>:1: SettingWithCopyWarning: \n",
      "A value is trying to be set on a copy of a slice from a DataFrame.\n",
      "Try using .loc[row_indexer,col_indexer] = value instead\n",
      "\n",
      "See the caveats in the documentation: https://pandas.pydata.org/pandas-docs/stable/user_guide/indexing.html#returning-a-view-versus-a-copy\n",
      "  data['Created_Date']=pd.to_datetime(data['Created_Date'])\n"
     ]
    }
   ],
   "source": [
    "data['Created_Date']=pd.to_datetime(data['Created_Date'])"
   ]
  },
  {
   "cell_type": "code",
   "execution_count": 11,
   "metadata": {},
   "outputs": [],
   "source": [
    "today_date =datetime.date.today()"
   ]
  },
  {
   "cell_type": "code",
   "execution_count": 12,
   "metadata": {},
   "outputs": [],
   "source": [
    "today_date =pd.to_datetime(today_date)"
   ]
  },
  {
   "cell_type": "code",
   "execution_count": 13,
   "metadata": {},
   "outputs": [
    {
     "name": "stderr",
     "output_type": "stream",
     "text": [
      "<ipython-input-13-5b7e21cb0241>:1: SettingWithCopyWarning: \n",
      "A value is trying to be set on a copy of a slice from a DataFrame.\n",
      "Try using .loc[row_indexer,col_indexer] = value instead\n",
      "\n",
      "See the caveats in the documentation: https://pandas.pydata.org/pandas-docs/stable/user_guide/indexing.html#returning-a-view-versus-a-copy\n",
      "  data['Days']=today_date-data['Created_Date']\n"
     ]
    }
   ],
   "source": [
    "data['Days']=today_date-data['Created_Date']"
   ]
  },
  {
   "cell_type": "code",
   "execution_count": 14,
   "metadata": {},
   "outputs": [
    {
     "data": {
      "text/html": [
       "<div>\n",
       "<style scoped>\n",
       "    .dataframe tbody tr th:only-of-type {\n",
       "        vertical-align: middle;\n",
       "    }\n",
       "\n",
       "    .dataframe tbody tr th {\n",
       "        vertical-align: top;\n",
       "    }\n",
       "\n",
       "    .dataframe thead th {\n",
       "        text-align: right;\n",
       "    }\n",
       "</style>\n",
       "<table border=\"1\" class=\"dataframe\">\n",
       "  <thead>\n",
       "    <tr style=\"text-align: right;\">\n",
       "      <th></th>\n",
       "      <th>Bedrooms</th>\n",
       "      <th>Bathrooms</th>\n",
       "      <th>Max_Guests</th>\n",
       "      <th>Pets_Allowed</th>\n",
       "      <th>Amenities</th>\n",
       "      <th>Created_Date</th>\n",
       "      <th>Overall_Rating</th>\n",
       "      <th>Number_of_Reviews</th>\n",
       "      <th>Number_of_Photos</th>\n",
       "      <th>Occupancy_Rate</th>\n",
       "      <th>Avg_price</th>\n",
       "      <th>Days</th>\n",
       "    </tr>\n",
       "  </thead>\n",
       "  <tbody>\n",
       "    <tr>\n",
       "      <th>0</th>\n",
       "      <td>2</td>\n",
       "      <td>1</td>\n",
       "      <td>5</td>\n",
       "      <td>Yes</td>\n",
       "      <td>24 hour check in,air conditioning,bedroom esse...</td>\n",
       "      <td>2016-02-15</td>\n",
       "      <td>90</td>\n",
       "      <td>22</td>\n",
       "      <td>29</td>\n",
       "      <td>50%</td>\n",
       "      <td>26.222222</td>\n",
       "      <td>2266 days</td>\n",
       "    </tr>\n",
       "    <tr>\n",
       "      <th>1</th>\n",
       "      <td>2</td>\n",
       "      <td>2</td>\n",
       "      <td>4</td>\n",
       "      <td>Yes</td>\n",
       "      <td>24 hour check in,breakfast included,cable tv,d...</td>\n",
       "      <td>2016-07-08</td>\n",
       "      <td>100</td>\n",
       "      <td>3</td>\n",
       "      <td>18</td>\n",
       "      <td>0%</td>\n",
       "      <td>0.000000</td>\n",
       "      <td>2122 days</td>\n",
       "    </tr>\n",
       "    <tr>\n",
       "      <th>2</th>\n",
       "      <td>3</td>\n",
       "      <td>2</td>\n",
       "      <td>5</td>\n",
       "      <td>No</td>\n",
       "      <td>24 hour check in,air conditioning,bedroom esse...</td>\n",
       "      <td>2019-06-17</td>\n",
       "      <td>100</td>\n",
       "      <td>71</td>\n",
       "      <td>37</td>\n",
       "      <td>83%</td>\n",
       "      <td>62.878788</td>\n",
       "      <td>1048 days</td>\n",
       "    </tr>\n",
       "    <tr>\n",
       "      <th>3</th>\n",
       "      <td>2</td>\n",
       "      <td>2</td>\n",
       "      <td>4</td>\n",
       "      <td>No</td>\n",
       "      <td>air conditioning,bedroom essentials,cable tv,c...</td>\n",
       "      <td>2017-02-28</td>\n",
       "      <td>100</td>\n",
       "      <td>41</td>\n",
       "      <td>25</td>\n",
       "      <td>64%</td>\n",
       "      <td>30.363636</td>\n",
       "      <td>1887 days</td>\n",
       "    </tr>\n",
       "    <tr>\n",
       "      <th>4</th>\n",
       "      <td>2</td>\n",
       "      <td>1</td>\n",
       "      <td>5</td>\n",
       "      <td>Yes</td>\n",
       "      <td>24 hour check in,air conditioning,bedroom esse...</td>\n",
       "      <td>2016-07-08</td>\n",
       "      <td>90</td>\n",
       "      <td>19</td>\n",
       "      <td>20</td>\n",
       "      <td>39%</td>\n",
       "      <td>22.560000</td>\n",
       "      <td>2122 days</td>\n",
       "    </tr>\n",
       "  </tbody>\n",
       "</table>\n",
       "</div>"
      ],
      "text/plain": [
       "   Bedrooms  Bathrooms  Max_Guests Pets_Allowed  \\\n",
       "0         2          1           5          Yes   \n",
       "1         2          2           4          Yes   \n",
       "2         3          2           5           No   \n",
       "3         2          2           4           No   \n",
       "4         2          1           5          Yes   \n",
       "\n",
       "                                           Amenities Created_Date  \\\n",
       "0  24 hour check in,air conditioning,bedroom esse...   2016-02-15   \n",
       "1  24 hour check in,breakfast included,cable tv,d...   2016-07-08   \n",
       "2  24 hour check in,air conditioning,bedroom esse...   2019-06-17   \n",
       "3  air conditioning,bedroom essentials,cable tv,c...   2017-02-28   \n",
       "4  24 hour check in,air conditioning,bedroom esse...   2016-07-08   \n",
       "\n",
       "   Overall_Rating  Number_of_Reviews  Number_of_Photos Occupancy_Rate  \\\n",
       "0              90                 22                29            50%   \n",
       "1             100                  3                18             0%   \n",
       "2             100                 71                37            83%   \n",
       "3             100                 41                25            64%   \n",
       "4              90                 19                20            39%   \n",
       "\n",
       "   Avg_price      Days  \n",
       "0  26.222222 2266 days  \n",
       "1   0.000000 2122 days  \n",
       "2  62.878788 1048 days  \n",
       "3  30.363636 1887 days  \n",
       "4  22.560000 2122 days  "
      ]
     },
     "execution_count": 14,
     "metadata": {},
     "output_type": "execute_result"
    }
   ],
   "source": [
    "data.head(5)"
   ]
  },
  {
   "cell_type": "code",
   "execution_count": 15,
   "metadata": {},
   "outputs": [
    {
     "name": "stderr",
     "output_type": "stream",
     "text": [
      "<ipython-input-15-f7c8600960c4>:1: SettingWithCopyWarning: \n",
      "A value is trying to be set on a copy of a slice from a DataFrame.\n",
      "Try using .loc[row_indexer,col_indexer] = value instead\n",
      "\n",
      "See the caveats in the documentation: https://pandas.pydata.org/pandas-docs/stable/user_guide/indexing.html#returning-a-view-versus-a-copy\n",
      "  data['Days']=days_int=(data[\"Days\"] / np.timedelta64(1, 'D')).astype(int)\n"
     ]
    }
   ],
   "source": [
    "data['Days']=days_int=(data[\"Days\"] / np.timedelta64(1, 'D')).astype(int)"
   ]
  },
  {
   "cell_type": "code",
   "execution_count": 16,
   "metadata": {},
   "outputs": [
    {
     "name": "stderr",
     "output_type": "stream",
     "text": [
      "<ipython-input-16-7a1a34964352>:1: SettingWithCopyWarning: \n",
      "A value is trying to be set on a copy of a slice from a DataFrame.\n",
      "Try using .loc[row_indexer,col_indexer] = value instead\n",
      "\n",
      "See the caveats in the documentation: https://pandas.pydata.org/pandas-docs/stable/user_guide/indexing.html#returning-a-view-versus-a-copy\n",
      "  data['Occupancy_Rate']=data['Occupancy_Rate'].str.rstrip(\"%\").astype('float')/100.0\n"
     ]
    }
   ],
   "source": [
    "data['Occupancy_Rate']=data['Occupancy_Rate'].str.rstrip(\"%\").astype('float')/100.0"
   ]
  },
  {
   "cell_type": "code",
   "execution_count": 17,
   "metadata": {},
   "outputs": [
    {
     "name": "stderr",
     "output_type": "stream",
     "text": [
      "<ipython-input-17-2a0ea6206530>:1: SettingWithCopyWarning: \n",
      "A value is trying to be set on a copy of a slice from a DataFrame.\n",
      "Try using .loc[row_indexer,col_indexer] = value instead\n",
      "\n",
      "See the caveats in the documentation: https://pandas.pydata.org/pandas-docs/stable/user_guide/indexing.html#returning-a-view-versus-a-copy\n",
      "  data['Pets_Allowed']=data['Pets_Allowed'].replace(\"Yes\",1)\n",
      "<ipython-input-17-2a0ea6206530>:2: SettingWithCopyWarning: \n",
      "A value is trying to be set on a copy of a slice from a DataFrame.\n",
      "Try using .loc[row_indexer,col_indexer] = value instead\n",
      "\n",
      "See the caveats in the documentation: https://pandas.pydata.org/pandas-docs/stable/user_guide/indexing.html#returning-a-view-versus-a-copy\n",
      "  data['Pets_Allowed']=data['Pets_Allowed'].replace(\"No\",0)\n"
     ]
    }
   ],
   "source": [
    "data['Pets_Allowed']=data['Pets_Allowed'].replace(\"Yes\",1)\n",
    "data['Pets_Allowed']=data['Pets_Allowed'].replace(\"No\",0)"
   ]
  },
  {
   "cell_type": "code",
   "execution_count": 18,
   "metadata": {},
   "outputs": [
    {
     "name": "stderr",
     "output_type": "stream",
     "text": [
      "C:\\Users\\lui_s\\anaconda3\\lib\\site-packages\\pandas\\core\\frame.py:4163: SettingWithCopyWarning: \n",
      "A value is trying to be set on a copy of a slice from a DataFrame\n",
      "\n",
      "See the caveats in the documentation: https://pandas.pydata.org/pandas-docs/stable/user_guide/indexing.html#returning-a-view-versus-a-copy\n",
      "  return super().drop(\n"
     ]
    }
   ],
   "source": [
    "data.drop('Created_Date',axis=1, inplace =True)"
   ]
  },
  {
   "cell_type": "code",
   "execution_count": 19,
   "metadata": {},
   "outputs": [
    {
     "data": {
      "text/html": [
       "<div>\n",
       "<style scoped>\n",
       "    .dataframe tbody tr th:only-of-type {\n",
       "        vertical-align: middle;\n",
       "    }\n",
       "\n",
       "    .dataframe tbody tr th {\n",
       "        vertical-align: top;\n",
       "    }\n",
       "\n",
       "    .dataframe thead th {\n",
       "        text-align: right;\n",
       "    }\n",
       "</style>\n",
       "<table border=\"1\" class=\"dataframe\">\n",
       "  <thead>\n",
       "    <tr style=\"text-align: right;\">\n",
       "      <th></th>\n",
       "      <th>Bedrooms</th>\n",
       "      <th>Bathrooms</th>\n",
       "      <th>Max_Guests</th>\n",
       "      <th>Pets_Allowed</th>\n",
       "      <th>Amenities</th>\n",
       "      <th>Overall_Rating</th>\n",
       "      <th>Number_of_Reviews</th>\n",
       "      <th>Number_of_Photos</th>\n",
       "      <th>Occupancy_Rate</th>\n",
       "      <th>Avg_price</th>\n",
       "      <th>Days</th>\n",
       "    </tr>\n",
       "  </thead>\n",
       "  <tbody>\n",
       "    <tr>\n",
       "      <th>0</th>\n",
       "      <td>2</td>\n",
       "      <td>1</td>\n",
       "      <td>5</td>\n",
       "      <td>1</td>\n",
       "      <td>24 hour check in,air conditioning,bedroom esse...</td>\n",
       "      <td>90</td>\n",
       "      <td>22</td>\n",
       "      <td>29</td>\n",
       "      <td>0.50</td>\n",
       "      <td>26.222222</td>\n",
       "      <td>2266</td>\n",
       "    </tr>\n",
       "    <tr>\n",
       "      <th>1</th>\n",
       "      <td>2</td>\n",
       "      <td>2</td>\n",
       "      <td>4</td>\n",
       "      <td>1</td>\n",
       "      <td>24 hour check in,breakfast included,cable tv,d...</td>\n",
       "      <td>100</td>\n",
       "      <td>3</td>\n",
       "      <td>18</td>\n",
       "      <td>0.00</td>\n",
       "      <td>0.000000</td>\n",
       "      <td>2122</td>\n",
       "    </tr>\n",
       "    <tr>\n",
       "      <th>2</th>\n",
       "      <td>3</td>\n",
       "      <td>2</td>\n",
       "      <td>5</td>\n",
       "      <td>0</td>\n",
       "      <td>24 hour check in,air conditioning,bedroom esse...</td>\n",
       "      <td>100</td>\n",
       "      <td>71</td>\n",
       "      <td>37</td>\n",
       "      <td>0.83</td>\n",
       "      <td>62.878788</td>\n",
       "      <td>1048</td>\n",
       "    </tr>\n",
       "    <tr>\n",
       "      <th>3</th>\n",
       "      <td>2</td>\n",
       "      <td>2</td>\n",
       "      <td>4</td>\n",
       "      <td>0</td>\n",
       "      <td>air conditioning,bedroom essentials,cable tv,c...</td>\n",
       "      <td>100</td>\n",
       "      <td>41</td>\n",
       "      <td>25</td>\n",
       "      <td>0.64</td>\n",
       "      <td>30.363636</td>\n",
       "      <td>1887</td>\n",
       "    </tr>\n",
       "    <tr>\n",
       "      <th>4</th>\n",
       "      <td>2</td>\n",
       "      <td>1</td>\n",
       "      <td>5</td>\n",
       "      <td>1</td>\n",
       "      <td>24 hour check in,air conditioning,bedroom esse...</td>\n",
       "      <td>90</td>\n",
       "      <td>19</td>\n",
       "      <td>20</td>\n",
       "      <td>0.39</td>\n",
       "      <td>22.560000</td>\n",
       "      <td>2122</td>\n",
       "    </tr>\n",
       "  </tbody>\n",
       "</table>\n",
       "</div>"
      ],
      "text/plain": [
       "   Bedrooms  Bathrooms  Max_Guests  Pets_Allowed  \\\n",
       "0         2          1           5             1   \n",
       "1         2          2           4             1   \n",
       "2         3          2           5             0   \n",
       "3         2          2           4             0   \n",
       "4         2          1           5             1   \n",
       "\n",
       "                                           Amenities  Overall_Rating  \\\n",
       "0  24 hour check in,air conditioning,bedroom esse...              90   \n",
       "1  24 hour check in,breakfast included,cable tv,d...             100   \n",
       "2  24 hour check in,air conditioning,bedroom esse...             100   \n",
       "3  air conditioning,bedroom essentials,cable tv,c...             100   \n",
       "4  24 hour check in,air conditioning,bedroom esse...              90   \n",
       "\n",
       "   Number_of_Reviews  Number_of_Photos  Occupancy_Rate  Avg_price  Days  \n",
       "0                 22                29            0.50  26.222222  2266  \n",
       "1                  3                18            0.00   0.000000  2122  \n",
       "2                 71                37            0.83  62.878788  1048  \n",
       "3                 41                25            0.64  30.363636  1887  \n",
       "4                 19                20            0.39  22.560000  2122  "
      ]
     },
     "execution_count": 19,
     "metadata": {},
     "output_type": "execute_result"
    }
   ],
   "source": [
    "data.head(5)"
   ]
  },
  {
   "cell_type": "code",
   "execution_count": 20,
   "metadata": {},
   "outputs": [
    {
     "name": "stderr",
     "output_type": "stream",
     "text": [
      "<ipython-input-20-09b35ac57deb>:1: SettingWithCopyWarning: \n",
      "A value is trying to be set on a copy of a slice from a DataFrame.\n",
      "Try using .loc[row_indexer,col_indexer] = value instead\n",
      "\n",
      "See the caveats in the documentation: https://pandas.pydata.org/pandas-docs/stable/user_guide/indexing.html#returning-a-view-versus-a-copy\n",
      "  data['Avg_nights']=data.Occupancy_Rate*(30)\n"
     ]
    }
   ],
   "source": [
    "data['Avg_nights']=data.Occupancy_Rate*(30)"
   ]
  },
  {
   "cell_type": "code",
   "execution_count": 21,
   "metadata": {},
   "outputs": [
    {
     "data": {
      "text/html": [
       "<div>\n",
       "<style scoped>\n",
       "    .dataframe tbody tr th:only-of-type {\n",
       "        vertical-align: middle;\n",
       "    }\n",
       "\n",
       "    .dataframe tbody tr th {\n",
       "        vertical-align: top;\n",
       "    }\n",
       "\n",
       "    .dataframe thead th {\n",
       "        text-align: right;\n",
       "    }\n",
       "</style>\n",
       "<table border=\"1\" class=\"dataframe\">\n",
       "  <thead>\n",
       "    <tr style=\"text-align: right;\">\n",
       "      <th></th>\n",
       "      <th>Bedrooms</th>\n",
       "      <th>Bathrooms</th>\n",
       "      <th>Max_Guests</th>\n",
       "      <th>Pets_Allowed</th>\n",
       "      <th>Amenities</th>\n",
       "      <th>Overall_Rating</th>\n",
       "      <th>Number_of_Reviews</th>\n",
       "      <th>Number_of_Photos</th>\n",
       "      <th>Occupancy_Rate</th>\n",
       "      <th>Avg_price</th>\n",
       "      <th>Days</th>\n",
       "      <th>Avg_nights</th>\n",
       "    </tr>\n",
       "  </thead>\n",
       "  <tbody>\n",
       "    <tr>\n",
       "      <th>0</th>\n",
       "      <td>2</td>\n",
       "      <td>1</td>\n",
       "      <td>5</td>\n",
       "      <td>1</td>\n",
       "      <td>24 hour check in,air conditioning,bedroom esse...</td>\n",
       "      <td>90</td>\n",
       "      <td>22</td>\n",
       "      <td>29</td>\n",
       "      <td>0.50</td>\n",
       "      <td>26.222222</td>\n",
       "      <td>2266</td>\n",
       "      <td>15.0</td>\n",
       "    </tr>\n",
       "    <tr>\n",
       "      <th>1</th>\n",
       "      <td>2</td>\n",
       "      <td>2</td>\n",
       "      <td>4</td>\n",
       "      <td>1</td>\n",
       "      <td>24 hour check in,breakfast included,cable tv,d...</td>\n",
       "      <td>100</td>\n",
       "      <td>3</td>\n",
       "      <td>18</td>\n",
       "      <td>0.00</td>\n",
       "      <td>0.000000</td>\n",
       "      <td>2122</td>\n",
       "      <td>0.0</td>\n",
       "    </tr>\n",
       "    <tr>\n",
       "      <th>2</th>\n",
       "      <td>3</td>\n",
       "      <td>2</td>\n",
       "      <td>5</td>\n",
       "      <td>0</td>\n",
       "      <td>24 hour check in,air conditioning,bedroom esse...</td>\n",
       "      <td>100</td>\n",
       "      <td>71</td>\n",
       "      <td>37</td>\n",
       "      <td>0.83</td>\n",
       "      <td>62.878788</td>\n",
       "      <td>1048</td>\n",
       "      <td>24.9</td>\n",
       "    </tr>\n",
       "    <tr>\n",
       "      <th>3</th>\n",
       "      <td>2</td>\n",
       "      <td>2</td>\n",
       "      <td>4</td>\n",
       "      <td>0</td>\n",
       "      <td>air conditioning,bedroom essentials,cable tv,c...</td>\n",
       "      <td>100</td>\n",
       "      <td>41</td>\n",
       "      <td>25</td>\n",
       "      <td>0.64</td>\n",
       "      <td>30.363636</td>\n",
       "      <td>1887</td>\n",
       "      <td>19.2</td>\n",
       "    </tr>\n",
       "    <tr>\n",
       "      <th>4</th>\n",
       "      <td>2</td>\n",
       "      <td>1</td>\n",
       "      <td>5</td>\n",
       "      <td>1</td>\n",
       "      <td>24 hour check in,air conditioning,bedroom esse...</td>\n",
       "      <td>90</td>\n",
       "      <td>19</td>\n",
       "      <td>20</td>\n",
       "      <td>0.39</td>\n",
       "      <td>22.560000</td>\n",
       "      <td>2122</td>\n",
       "      <td>11.7</td>\n",
       "    </tr>\n",
       "  </tbody>\n",
       "</table>\n",
       "</div>"
      ],
      "text/plain": [
       "   Bedrooms  Bathrooms  Max_Guests  Pets_Allowed  \\\n",
       "0         2          1           5             1   \n",
       "1         2          2           4             1   \n",
       "2         3          2           5             0   \n",
       "3         2          2           4             0   \n",
       "4         2          1           5             1   \n",
       "\n",
       "                                           Amenities  Overall_Rating  \\\n",
       "0  24 hour check in,air conditioning,bedroom esse...              90   \n",
       "1  24 hour check in,breakfast included,cable tv,d...             100   \n",
       "2  24 hour check in,air conditioning,bedroom esse...             100   \n",
       "3  air conditioning,bedroom essentials,cable tv,c...             100   \n",
       "4  24 hour check in,air conditioning,bedroom esse...              90   \n",
       "\n",
       "   Number_of_Reviews  Number_of_Photos  Occupancy_Rate  Avg_price  Days  \\\n",
       "0                 22                29            0.50  26.222222  2266   \n",
       "1                  3                18            0.00   0.000000  2122   \n",
       "2                 71                37            0.83  62.878788  1048   \n",
       "3                 41                25            0.64  30.363636  1887   \n",
       "4                 19                20            0.39  22.560000  2122   \n",
       "\n",
       "   Avg_nights  \n",
       "0        15.0  \n",
       "1         0.0  \n",
       "2        24.9  \n",
       "3        19.2  \n",
       "4        11.7  "
      ]
     },
     "execution_count": 21,
     "metadata": {},
     "output_type": "execute_result"
    }
   ],
   "source": [
    "data.head(5)"
   ]
  },
  {
   "cell_type": "code",
   "execution_count": 22,
   "metadata": {},
   "outputs": [
    {
     "name": "stderr",
     "output_type": "stream",
     "text": [
      "<ipython-input-22-9ac1dc683dc5>:1: SettingWithCopyWarning: \n",
      "A value is trying to be set on a copy of a slice from a DataFrame.\n",
      "Try using .loc[row_indexer,col_indexer] = value instead\n",
      "\n",
      "See the caveats in the documentation: https://pandas.pydata.org/pandas-docs/stable/user_guide/indexing.html#returning-a-view-versus-a-copy\n",
      "  data['Avg_nights']=data['Avg_nights'].astype(\"int64\")\n"
     ]
    }
   ],
   "source": [
    "data['Avg_nights']=data['Avg_nights'].astype(\"int64\")"
   ]
  },
  {
   "cell_type": "code",
   "execution_count": 23,
   "metadata": {},
   "outputs": [
    {
     "name": "stdout",
     "output_type": "stream",
     "text": [
      "<class 'pandas.core.frame.DataFrame'>\n",
      "Int64Index: 833 entries, 0 to 833\n",
      "Data columns (total 12 columns):\n",
      " #   Column             Non-Null Count  Dtype  \n",
      "---  ------             --------------  -----  \n",
      " 0   Bedrooms           833 non-null    int64  \n",
      " 1   Bathrooms          833 non-null    int64  \n",
      " 2   Max_Guests         833 non-null    int64  \n",
      " 3   Pets_Allowed       833 non-null    int64  \n",
      " 4   Amenities          833 non-null    object \n",
      " 5   Overall_Rating     833 non-null    int64  \n",
      " 6   Number_of_Reviews  833 non-null    int64  \n",
      " 7   Number_of_Photos   833 non-null    int64  \n",
      " 8   Occupancy_Rate     833 non-null    float64\n",
      " 9   Avg_price          833 non-null    float64\n",
      " 10  Days               833 non-null    int32  \n",
      " 11  Avg_nights         833 non-null    int64  \n",
      "dtypes: float64(2), int32(1), int64(8), object(1)\n",
      "memory usage: 81.3+ KB\n"
     ]
    }
   ],
   "source": [
    "data.info()"
   ]
  },
  {
   "cell_type": "code",
   "execution_count": 24,
   "metadata": {},
   "outputs": [
    {
     "name": "stderr",
     "output_type": "stream",
     "text": [
      "<ipython-input-24-9c2ee41cc789>:1: SettingWithCopyWarning: \n",
      "A value is trying to be set on a copy of a slice from a DataFrame.\n",
      "Try using .loc[row_indexer,col_indexer] = value instead\n",
      "\n",
      "See the caveats in the documentation: https://pandas.pydata.org/pandas-docs/stable/user_guide/indexing.html#returning-a-view-versus-a-copy\n",
      "  data['Avg_income']=data['Avg_price']*data['Avg_nights']\n"
     ]
    }
   ],
   "source": [
    "data['Avg_income']=data['Avg_price']*data['Avg_nights']"
   ]
  },
  {
   "cell_type": "code",
   "execution_count": 26,
   "metadata": {},
   "outputs": [
    {
     "data": {
      "text/html": [
       "<div>\n",
       "<style scoped>\n",
       "    .dataframe tbody tr th:only-of-type {\n",
       "        vertical-align: middle;\n",
       "    }\n",
       "\n",
       "    .dataframe tbody tr th {\n",
       "        vertical-align: top;\n",
       "    }\n",
       "\n",
       "    .dataframe thead th {\n",
       "        text-align: right;\n",
       "    }\n",
       "</style>\n",
       "<table border=\"1\" class=\"dataframe\">\n",
       "  <thead>\n",
       "    <tr style=\"text-align: right;\">\n",
       "      <th></th>\n",
       "      <th>Bedrooms</th>\n",
       "      <th>Bathrooms</th>\n",
       "      <th>Max_Guests</th>\n",
       "      <th>Pets_Allowed</th>\n",
       "      <th>Amenities</th>\n",
       "      <th>Overall_Rating</th>\n",
       "      <th>Number_of_Reviews</th>\n",
       "      <th>Number_of_Photos</th>\n",
       "      <th>Occupancy_Rate</th>\n",
       "      <th>Avg_price</th>\n",
       "      <th>Days</th>\n",
       "      <th>Avg_nights</th>\n",
       "      <th>Avg_income</th>\n",
       "    </tr>\n",
       "  </thead>\n",
       "  <tbody>\n",
       "    <tr>\n",
       "      <th>0</th>\n",
       "      <td>2</td>\n",
       "      <td>1</td>\n",
       "      <td>5</td>\n",
       "      <td>1</td>\n",
       "      <td>24 hour check in,air conditioning,bedroom esse...</td>\n",
       "      <td>90</td>\n",
       "      <td>22</td>\n",
       "      <td>29</td>\n",
       "      <td>0.50</td>\n",
       "      <td>26.222222</td>\n",
       "      <td>2266</td>\n",
       "      <td>15</td>\n",
       "      <td>393.33</td>\n",
       "    </tr>\n",
       "    <tr>\n",
       "      <th>1</th>\n",
       "      <td>2</td>\n",
       "      <td>2</td>\n",
       "      <td>4</td>\n",
       "      <td>1</td>\n",
       "      <td>24 hour check in,breakfast included,cable tv,d...</td>\n",
       "      <td>100</td>\n",
       "      <td>3</td>\n",
       "      <td>18</td>\n",
       "      <td>0.00</td>\n",
       "      <td>0.000000</td>\n",
       "      <td>2122</td>\n",
       "      <td>0</td>\n",
       "      <td>0.00</td>\n",
       "    </tr>\n",
       "    <tr>\n",
       "      <th>2</th>\n",
       "      <td>3</td>\n",
       "      <td>2</td>\n",
       "      <td>5</td>\n",
       "      <td>0</td>\n",
       "      <td>24 hour check in,air conditioning,bedroom esse...</td>\n",
       "      <td>100</td>\n",
       "      <td>71</td>\n",
       "      <td>37</td>\n",
       "      <td>0.83</td>\n",
       "      <td>62.878788</td>\n",
       "      <td>1048</td>\n",
       "      <td>24</td>\n",
       "      <td>1509.09</td>\n",
       "    </tr>\n",
       "    <tr>\n",
       "      <th>3</th>\n",
       "      <td>2</td>\n",
       "      <td>2</td>\n",
       "      <td>4</td>\n",
       "      <td>0</td>\n",
       "      <td>air conditioning,bedroom essentials,cable tv,c...</td>\n",
       "      <td>100</td>\n",
       "      <td>41</td>\n",
       "      <td>25</td>\n",
       "      <td>0.64</td>\n",
       "      <td>30.363636</td>\n",
       "      <td>1887</td>\n",
       "      <td>19</td>\n",
       "      <td>576.91</td>\n",
       "    </tr>\n",
       "    <tr>\n",
       "      <th>4</th>\n",
       "      <td>2</td>\n",
       "      <td>1</td>\n",
       "      <td>5</td>\n",
       "      <td>1</td>\n",
       "      <td>24 hour check in,air conditioning,bedroom esse...</td>\n",
       "      <td>90</td>\n",
       "      <td>19</td>\n",
       "      <td>20</td>\n",
       "      <td>0.39</td>\n",
       "      <td>22.560000</td>\n",
       "      <td>2122</td>\n",
       "      <td>11</td>\n",
       "      <td>248.16</td>\n",
       "    </tr>\n",
       "  </tbody>\n",
       "</table>\n",
       "</div>"
      ],
      "text/plain": [
       "   Bedrooms  Bathrooms  Max_Guests  Pets_Allowed  \\\n",
       "0         2          1           5             1   \n",
       "1         2          2           4             1   \n",
       "2         3          2           5             0   \n",
       "3         2          2           4             0   \n",
       "4         2          1           5             1   \n",
       "\n",
       "                                           Amenities  Overall_Rating  \\\n",
       "0  24 hour check in,air conditioning,bedroom esse...              90   \n",
       "1  24 hour check in,breakfast included,cable tv,d...             100   \n",
       "2  24 hour check in,air conditioning,bedroom esse...             100   \n",
       "3  air conditioning,bedroom essentials,cable tv,c...             100   \n",
       "4  24 hour check in,air conditioning,bedroom esse...              90   \n",
       "\n",
       "   Number_of_Reviews  Number_of_Photos  Occupancy_Rate  Avg_price  Days  \\\n",
       "0                 22                29            0.50  26.222222  2266   \n",
       "1                  3                18            0.00   0.000000  2122   \n",
       "2                 71                37            0.83  62.878788  1048   \n",
       "3                 41                25            0.64  30.363636  1887   \n",
       "4                 19                20            0.39  22.560000  2122   \n",
       "\n",
       "   Avg_nights  Avg_income  \n",
       "0          15      393.33  \n",
       "1           0        0.00  \n",
       "2          24     1509.09  \n",
       "3          19      576.91  \n",
       "4          11      248.16  "
      ]
     },
     "execution_count": 26,
     "metadata": {},
     "output_type": "execute_result"
    }
   ],
   "source": [
    "data.head(5)"
   ]
  },
  {
   "cell_type": "code",
   "execution_count": 25,
   "metadata": {},
   "outputs": [
    {
     "name": "stderr",
     "output_type": "stream",
     "text": [
      "<ipython-input-25-f0158101bac7>:1: SettingWithCopyWarning: \n",
      "A value is trying to be set on a copy of a slice from a DataFrame.\n",
      "Try using .loc[row_indexer,col_indexer] = value instead\n",
      "\n",
      "See the caveats in the documentation: https://pandas.pydata.org/pandas-docs/stable/user_guide/indexing.html#returning-a-view-versus-a-copy\n",
      "  data['Avg_income']=round(data[\"Avg_income\"],ndigits=2)\n"
     ]
    }
   ],
   "source": [
    "data['Avg_income']=round(data[\"Avg_income\"],ndigits=2)"
   ]
  },
  {
   "cell_type": "code",
   "execution_count": 28,
   "metadata": {},
   "outputs": [
    {
     "name": "stderr",
     "output_type": "stream",
     "text": [
      "<ipython-input-28-f832208b27de>:1: SettingWithCopyWarning: \n",
      "A value is trying to be set on a copy of a slice from a DataFrame.\n",
      "Try using .loc[row_indexer,col_indexer] = value instead\n",
      "\n",
      "See the caveats in the documentation: https://pandas.pydata.org/pandas-docs/stable/user_guide/indexing.html#returning-a-view-versus-a-copy\n",
      "  data['Amenities']=data['Amenities'].str.count(',')+1\n"
     ]
    }
   ],
   "source": [
    "data['Amenities']=data['Amenities'].str.count(',')+1"
   ]
  },
  {
   "cell_type": "code",
   "execution_count": 29,
   "metadata": {},
   "outputs": [
    {
     "data": {
      "text/html": [
       "<div>\n",
       "<style scoped>\n",
       "    .dataframe tbody tr th:only-of-type {\n",
       "        vertical-align: middle;\n",
       "    }\n",
       "\n",
       "    .dataframe tbody tr th {\n",
       "        vertical-align: top;\n",
       "    }\n",
       "\n",
       "    .dataframe thead th {\n",
       "        text-align: right;\n",
       "    }\n",
       "</style>\n",
       "<table border=\"1\" class=\"dataframe\">\n",
       "  <thead>\n",
       "    <tr style=\"text-align: right;\">\n",
       "      <th></th>\n",
       "      <th>Bedrooms</th>\n",
       "      <th>Bathrooms</th>\n",
       "      <th>Max_Guests</th>\n",
       "      <th>Pets_Allowed</th>\n",
       "      <th>Amenities</th>\n",
       "      <th>Overall_Rating</th>\n",
       "      <th>Number_of_Reviews</th>\n",
       "      <th>Number_of_Photos</th>\n",
       "      <th>Occupancy_Rate</th>\n",
       "      <th>Avg_price</th>\n",
       "      <th>Days</th>\n",
       "      <th>Avg_nights</th>\n",
       "      <th>Avg_income</th>\n",
       "    </tr>\n",
       "  </thead>\n",
       "  <tbody>\n",
       "    <tr>\n",
       "      <th>0</th>\n",
       "      <td>2</td>\n",
       "      <td>1</td>\n",
       "      <td>5</td>\n",
       "      <td>1</td>\n",
       "      <td>25</td>\n",
       "      <td>90</td>\n",
       "      <td>22</td>\n",
       "      <td>29</td>\n",
       "      <td>0.50</td>\n",
       "      <td>26.222222</td>\n",
       "      <td>2266</td>\n",
       "      <td>15</td>\n",
       "      <td>393.33</td>\n",
       "    </tr>\n",
       "    <tr>\n",
       "      <th>1</th>\n",
       "      <td>2</td>\n",
       "      <td>2</td>\n",
       "      <td>4</td>\n",
       "      <td>1</td>\n",
       "      <td>13</td>\n",
       "      <td>100</td>\n",
       "      <td>3</td>\n",
       "      <td>18</td>\n",
       "      <td>0.00</td>\n",
       "      <td>0.000000</td>\n",
       "      <td>2122</td>\n",
       "      <td>0</td>\n",
       "      <td>0.00</td>\n",
       "    </tr>\n",
       "    <tr>\n",
       "      <th>2</th>\n",
       "      <td>3</td>\n",
       "      <td>2</td>\n",
       "      <td>5</td>\n",
       "      <td>0</td>\n",
       "      <td>32</td>\n",
       "      <td>100</td>\n",
       "      <td>71</td>\n",
       "      <td>37</td>\n",
       "      <td>0.83</td>\n",
       "      <td>62.878788</td>\n",
       "      <td>1048</td>\n",
       "      <td>24</td>\n",
       "      <td>1509.09</td>\n",
       "    </tr>\n",
       "    <tr>\n",
       "      <th>3</th>\n",
       "      <td>2</td>\n",
       "      <td>2</td>\n",
       "      <td>4</td>\n",
       "      <td>0</td>\n",
       "      <td>31</td>\n",
       "      <td>100</td>\n",
       "      <td>41</td>\n",
       "      <td>25</td>\n",
       "      <td>0.64</td>\n",
       "      <td>30.363636</td>\n",
       "      <td>1887</td>\n",
       "      <td>19</td>\n",
       "      <td>576.91</td>\n",
       "    </tr>\n",
       "    <tr>\n",
       "      <th>4</th>\n",
       "      <td>2</td>\n",
       "      <td>1</td>\n",
       "      <td>5</td>\n",
       "      <td>1</td>\n",
       "      <td>24</td>\n",
       "      <td>90</td>\n",
       "      <td>19</td>\n",
       "      <td>20</td>\n",
       "      <td>0.39</td>\n",
       "      <td>22.560000</td>\n",
       "      <td>2122</td>\n",
       "      <td>11</td>\n",
       "      <td>248.16</td>\n",
       "    </tr>\n",
       "  </tbody>\n",
       "</table>\n",
       "</div>"
      ],
      "text/plain": [
       "   Bedrooms  Bathrooms  Max_Guests  Pets_Allowed  Amenities  Overall_Rating  \\\n",
       "0         2          1           5             1         25              90   \n",
       "1         2          2           4             1         13             100   \n",
       "2         3          2           5             0         32             100   \n",
       "3         2          2           4             0         31             100   \n",
       "4         2          1           5             1         24              90   \n",
       "\n",
       "   Number_of_Reviews  Number_of_Photos  Occupancy_Rate  Avg_price  Days  \\\n",
       "0                 22                29            0.50  26.222222  2266   \n",
       "1                  3                18            0.00   0.000000  2122   \n",
       "2                 71                37            0.83  62.878788  1048   \n",
       "3                 41                25            0.64  30.363636  1887   \n",
       "4                 19                20            0.39  22.560000  2122   \n",
       "\n",
       "   Avg_nights  Avg_income  \n",
       "0          15      393.33  \n",
       "1           0        0.00  \n",
       "2          24     1509.09  \n",
       "3          19      576.91  \n",
       "4          11      248.16  "
      ]
     },
     "execution_count": 29,
     "metadata": {},
     "output_type": "execute_result"
    }
   ],
   "source": [
    "data.head(5)"
   ]
  },
  {
   "cell_type": "markdown",
   "metadata": {},
   "source": [
    "## Análisis exploratorio de los datos."
   ]
  },
  {
   "cell_type": "markdown",
   "metadata": {},
   "source": [
    "\n",
    "<h4> Ingreso promedio del mercado de Airbnb Stgo Dgo Este."
   ]
  },
  {
   "cell_type": "code",
   "execution_count": 31,
   "metadata": {},
   "outputs": [
    {
     "data": {
      "text/plain": [
       "700.81"
      ]
     },
     "execution_count": 31,
     "metadata": {},
     "output_type": "execute_result"
    }
   ],
   "source": [
    "round(data['Avg_income'].mean(),ndigits=2)"
   ]
  },
  {
   "cell_type": "markdown",
   "metadata": {},
   "source": [
    "<h4> Tasa de ocupación promedio del mercado de Airbnb Stgo Dgo Este."
   ]
  },
  {
   "cell_type": "code",
   "execution_count": 44,
   "metadata": {},
   "outputs": [
    {
     "name": "stdout",
     "output_type": "stream",
     "text": [
      "42%\n"
     ]
    }
   ],
   "source": [
    "print(\"{0:.0%}\".format(round(data['Occupancy_Rate'].mean(),ndigits=2)))"
   ]
  },
  {
   "cell_type": "markdown",
   "metadata": {},
   "source": [
    "<h4> Promedio de noches rentadas."
   ]
  },
  {
   "cell_type": "code",
   "execution_count": 71,
   "metadata": {},
   "outputs": [
    {
     "data": {
      "text/plain": [
       "12"
      ]
     },
     "execution_count": 71,
     "metadata": {},
     "output_type": "execute_result"
    }
   ],
   "source": [
    "round(data['Avg_nights'].mean())"
   ]
  },
  {
   "cell_type": "markdown",
   "metadata": {},
   "source": [
    "<h4> ¿Hace cuanto tiempo se creó el mercado de airbnb stgo este?"
   ]
  },
  {
   "cell_type": "code",
   "execution_count": 66,
   "metadata": {},
   "outputs": [
    {
     "name": "stdout",
     "output_type": "stream",
     "text": [
      "7 años de creación del mercado.\n"
     ]
    }
   ],
   "source": [
    "print(int(data['Days'].max()/365), \"años de creación del mercado.\")"
   ]
  },
  {
   "cell_type": "code",
   "execution_count": 76,
   "metadata": {},
   "outputs": [
    {
     "data": {
      "text/html": [
       "<div>\n",
       "<style scoped>\n",
       "    .dataframe tbody tr th:only-of-type {\n",
       "        vertical-align: middle;\n",
       "    }\n",
       "\n",
       "    .dataframe tbody tr th {\n",
       "        vertical-align: top;\n",
       "    }\n",
       "\n",
       "    .dataframe thead th {\n",
       "        text-align: right;\n",
       "    }\n",
       "</style>\n",
       "<table border=\"1\" class=\"dataframe\">\n",
       "  <thead>\n",
       "    <tr style=\"text-align: right;\">\n",
       "      <th></th>\n",
       "      <th>Bedrooms</th>\n",
       "      <th>Bathrooms</th>\n",
       "      <th>Max_Guests</th>\n",
       "      <th>Pets_Allowed</th>\n",
       "      <th>Amenities</th>\n",
       "      <th>Overall_Rating</th>\n",
       "      <th>Number_of_Reviews</th>\n",
       "      <th>Number_of_Photos</th>\n",
       "      <th>Occupancy_Rate</th>\n",
       "      <th>Avg_price</th>\n",
       "      <th>Days</th>\n",
       "      <th>Avg_nights</th>\n",
       "      <th>Avg_income</th>\n",
       "    </tr>\n",
       "  </thead>\n",
       "  <tbody>\n",
       "    <tr>\n",
       "      <th>count</th>\n",
       "      <td>833.00</td>\n",
       "      <td>833.00</td>\n",
       "      <td>833.00</td>\n",
       "      <td>833.00</td>\n",
       "      <td>833.00</td>\n",
       "      <td>833.00</td>\n",
       "      <td>833.00</td>\n",
       "      <td>833.00</td>\n",
       "      <td>833.00</td>\n",
       "      <td>833.00</td>\n",
       "      <td>833.00</td>\n",
       "      <td>833.00</td>\n",
       "      <td>833.00</td>\n",
       "    </tr>\n",
       "    <tr>\n",
       "      <th>mean</th>\n",
       "      <td>2.34</td>\n",
       "      <td>2.06</td>\n",
       "      <td>4.85</td>\n",
       "      <td>0.27</td>\n",
       "      <td>25.19</td>\n",
       "      <td>94.51</td>\n",
       "      <td>18.81</td>\n",
       "      <td>27.30</td>\n",
       "      <td>0.42</td>\n",
       "      <td>58.97</td>\n",
       "      <td>570.93</td>\n",
       "      <td>12.08</td>\n",
       "      <td>700.81</td>\n",
       "    </tr>\n",
       "    <tr>\n",
       "      <th>std</th>\n",
       "      <td>0.95</td>\n",
       "      <td>0.99</td>\n",
       "      <td>2.06</td>\n",
       "      <td>0.45</td>\n",
       "      <td>7.23</td>\n",
       "      <td>7.77</td>\n",
       "      <td>24.21</td>\n",
       "      <td>15.29</td>\n",
       "      <td>0.24</td>\n",
       "      <td>47.96</td>\n",
       "      <td>484.15</td>\n",
       "      <td>7.14</td>\n",
       "      <td>603.26</td>\n",
       "    </tr>\n",
       "    <tr>\n",
       "      <th>min</th>\n",
       "      <td>0.00</td>\n",
       "      <td>0.00</td>\n",
       "      <td>1.00</td>\n",
       "      <td>0.00</td>\n",
       "      <td>5.00</td>\n",
       "      <td>50.00</td>\n",
       "      <td>3.00</td>\n",
       "      <td>1.00</td>\n",
       "      <td>0.00</td>\n",
       "      <td>0.00</td>\n",
       "      <td>41.00</td>\n",
       "      <td>0.00</td>\n",
       "      <td>0.00</td>\n",
       "    </tr>\n",
       "    <tr>\n",
       "      <th>25%</th>\n",
       "      <td>2.00</td>\n",
       "      <td>1.00</td>\n",
       "      <td>4.00</td>\n",
       "      <td>0.00</td>\n",
       "      <td>21.00</td>\n",
       "      <td>90.00</td>\n",
       "      <td>5.00</td>\n",
       "      <td>16.00</td>\n",
       "      <td>0.22</td>\n",
       "      <td>35.67</td>\n",
       "      <td>220.00</td>\n",
       "      <td>6.00</td>\n",
       "      <td>287.00</td>\n",
       "    </tr>\n",
       "    <tr>\n",
       "      <th>50%</th>\n",
       "      <td>2.00</td>\n",
       "      <td>2.00</td>\n",
       "      <td>5.00</td>\n",
       "      <td>0.00</td>\n",
       "      <td>25.00</td>\n",
       "      <td>100.00</td>\n",
       "      <td>10.00</td>\n",
       "      <td>24.00</td>\n",
       "      <td>0.43</td>\n",
       "      <td>51.03</td>\n",
       "      <td>409.00</td>\n",
       "      <td>12.00</td>\n",
       "      <td>579.00</td>\n",
       "    </tr>\n",
       "    <tr>\n",
       "      <th>75%</th>\n",
       "      <td>3.00</td>\n",
       "      <td>2.00</td>\n",
       "      <td>6.00</td>\n",
       "      <td>1.00</td>\n",
       "      <td>30.00</td>\n",
       "      <td>100.00</td>\n",
       "      <td>22.00</td>\n",
       "      <td>35.00</td>\n",
       "      <td>0.60</td>\n",
       "      <td>69.00</td>\n",
       "      <td>817.00</td>\n",
       "      <td>18.00</td>\n",
       "      <td>977.44</td>\n",
       "    </tr>\n",
       "    <tr>\n",
       "      <th>max</th>\n",
       "      <td>10.00</td>\n",
       "      <td>9.00</td>\n",
       "      <td>16.00</td>\n",
       "      <td>1.00</td>\n",
       "      <td>48.00</td>\n",
       "      <td>100.00</td>\n",
       "      <td>219.00</td>\n",
       "      <td>100.00</td>\n",
       "      <td>1.00</td>\n",
       "      <td>786.33</td>\n",
       "      <td>2687.00</td>\n",
       "      <td>30.00</td>\n",
       "      <td>5436.67</td>\n",
       "    </tr>\n",
       "  </tbody>\n",
       "</table>\n",
       "</div>"
      ],
      "text/plain": [
       "       Bedrooms  Bathrooms  Max_Guests  Pets_Allowed  Amenities  \\\n",
       "count    833.00     833.00      833.00        833.00     833.00   \n",
       "mean       2.34       2.06        4.85          0.27      25.19   \n",
       "std        0.95       0.99        2.06          0.45       7.23   \n",
       "min        0.00       0.00        1.00          0.00       5.00   \n",
       "25%        2.00       1.00        4.00          0.00      21.00   \n",
       "50%        2.00       2.00        5.00          0.00      25.00   \n",
       "75%        3.00       2.00        6.00          1.00      30.00   \n",
       "max       10.00       9.00       16.00          1.00      48.00   \n",
       "\n",
       "       Overall_Rating  Number_of_Reviews  Number_of_Photos  Occupancy_Rate  \\\n",
       "count          833.00             833.00            833.00          833.00   \n",
       "mean            94.51              18.81             27.30            0.42   \n",
       "std              7.77              24.21             15.29            0.24   \n",
       "min             50.00               3.00              1.00            0.00   \n",
       "25%             90.00               5.00             16.00            0.22   \n",
       "50%            100.00              10.00             24.00            0.43   \n",
       "75%            100.00              22.00             35.00            0.60   \n",
       "max            100.00             219.00            100.00            1.00   \n",
       "\n",
       "       Avg_price     Days  Avg_nights  Avg_income  \n",
       "count     833.00   833.00      833.00      833.00  \n",
       "mean       58.97   570.93       12.08      700.81  \n",
       "std        47.96   484.15        7.14      603.26  \n",
       "min         0.00    41.00        0.00        0.00  \n",
       "25%        35.67   220.00        6.00      287.00  \n",
       "50%        51.03   409.00       12.00      579.00  \n",
       "75%        69.00   817.00       18.00      977.44  \n",
       "max       786.33  2687.00       30.00     5436.67  "
      ]
     },
     "execution_count": 76,
     "metadata": {},
     "output_type": "execute_result"
    }
   ],
   "source": [
    "round(data.describe(),ndigits=2)"
   ]
  },
  {
   "cell_type": "markdown",
   "metadata": {},
   "source": [
    "<h4> Heatmap - Correclaciones de varibales."
   ]
  },
  {
   "cell_type": "code",
   "execution_count": 67,
   "metadata": {},
   "outputs": [
    {
     "data": {
      "text/plain": [
       "(13, 13)"
      ]
     },
     "execution_count": 67,
     "metadata": {},
     "output_type": "execute_result"
    }
   ],
   "source": [
    "corr =data.corr()\n",
    "corr.shape"
   ]
  },
  {
   "cell_type": "code",
   "execution_count": 68,
   "metadata": {},
   "outputs": [
    {
     "data": {
      "text/plain": [
       "<AxesSubplot:>"
      ]
     },
     "execution_count": 68,
     "metadata": {},
     "output_type": "execute_result"
    },
    {
     "data": {
      "image/png": "[encoded data removed]",
      "text/plain": [
       "<Figure size 720x720 with 2 Axes>"
      ]
     },
     "metadata": {
      "needs_background": "light"
     },
     "output_type": "display_data"
    }
   ],
   "source": [
    "plt.figure(figsize=(10,10))\n",
    "sns.heatmap(corr, cbar=True, square= True, fmt='.1f', annot=True, annot_kws={'size':10}, cmap='Reds')\n"
   ]
  },
  {
   "cell_type": "code",
   "execution_count": 69,
   "metadata": {},
   "outputs": [
    {
     "data": {
      "image/png": "[encoded data removed]",
      "text/plain": [
       "<Figure size 720x720 with 16 Axes>"
      ]
     },
     "metadata": {
      "needs_background": "light"
     },
     "output_type": "display_data"
    }
   ],
   "source": [
    "data.hist(figsize =(10,10))\n",
    "plt.show()"
   ]
  },
  {
   "cell_type": "code",
   "execution_count": 77,
   "metadata": {},
   "outputs": [
    {
     "name": "stdout",
     "output_type": "stream",
     "text": [
      "Index(['Bedrooms', 'Bathrooms', 'Max_Guests', 'Pets_Allowed', 'Amenities',\n",
      "       'Overall_Rating', 'Number_of_Reviews', 'Number_of_Photos',\n",
      "       'Occupancy_Rate', 'Avg_price', 'Days', 'Avg_nights', 'Avg_income'],\n",
      "      dtype='object')\n"
     ]
    }
   ],
   "source": [
    "print(data.columns)"
   ]
  },
  {
   "cell_type": "markdown",
   "metadata": {},
   "source": [
    "## Modelo de regresión lineal"
   ]
  },
  {
   "cell_type": "code",
   "execution_count": 115,
   "metadata": {},
   "outputs": [],
   "source": [
    "# Usaremos como variable dependiente los ingresos primedios ( Avg_income)\n",
    "\n",
    "model= ols(formula='Avg_income~Bedrooms+Bathrooms+Max_Guests+Pets_Allowed+Amenities+Overall_Rating+Number_of_Reviews+Number_of_Photos+Occupancy_Rate+Avg_price+Days+Avg_nights',data=data)\n",
    "\n",
    "                    \n",
    "train=model.fit()"
   ]
  },
  {
   "cell_type": "code",
   "execution_count": 82,
   "metadata": {},
   "outputs": [
    {
     "data": {
      "text/plain": [
       "Intercept            -479.090202\n",
       "Bedrooms              -69.746667\n",
       "Bathrooms              41.418979\n",
       "Max_Guests             42.443212\n",
       "Pets_Allowed          -77.205310\n",
       "Amenities               2.626230\n",
       "Overall_Rating          0.148815\n",
       "Number_of_Reviews       1.469339\n",
       "Number_of_Photos        1.210232\n",
       "Occupancy_Rate      -1642.302316\n",
       "Avg_price               6.186927\n",
       "Days                   -0.040356\n",
       "Avg_nights            105.587650\n",
       "dtype: float64"
      ]
     },
     "execution_count": 82,
     "metadata": {},
     "output_type": "execute_result"
    }
   ],
   "source": [
    "#Coeficientes\n",
    "train.params"
   ]
  },
  {
   "cell_type": "code",
   "execution_count": 84,
   "metadata": {},
   "outputs": [
    {
     "name": "stdout",
     "output_type": "stream",
     "text": [
      "                            OLS Regression Results                            \n",
      "==============================================================================\n",
      "Dep. Variable:             Avg_income   R-squared:                       0.753\n",
      "Model:                            OLS   Adj. R-squared:                  0.749\n",
      "Method:                 Least Squares   F-statistic:                     207.9\n",
      "Date:                Sat, 30 Apr 2022   Prob (F-statistic):          4.69e-239\n",
      "Time:                        18:31:35   Log-Likelihood:                -5932.9\n",
      "No. Observations:                 833   AIC:                         1.189e+04\n",
      "Df Residuals:                     820   BIC:                         1.195e+04\n",
      "Df Model:                          12                                         \n",
      "Covariance Type:            nonrobust                                         \n",
      "=====================================================================================\n",
      "                        coef    std err          t      P>|t|      [0.025      0.975]\n",
      "-------------------------------------------------------------------------------------\n",
      "Intercept          -479.0902    140.297     -3.415      0.001    -754.473    -203.707\n",
      "Bedrooms            -69.7467     22.881     -3.048      0.002    -114.660     -24.834\n",
      "Bathrooms            41.4190     16.257      2.548      0.011       9.509      73.329\n",
      "Max_Guests           42.4432     10.664      3.980      0.000      21.511      63.375\n",
      "Pets_Allowed        -77.2053     24.313     -3.175      0.002    -124.929     -29.482\n",
      "Amenities             2.6262      1.640      1.601      0.110      -0.593       5.846\n",
      "Overall_Rating        0.1488      1.411      0.105      0.916      -2.622       2.919\n",
      "Number_of_Reviews     1.4693      0.536      2.742      0.006       0.417       2.521\n",
      "Number_of_Photos      1.2102      0.781      1.550      0.122      -0.323       2.743\n",
      "Occupancy_Rate    -1642.3023   1103.188     -1.489      0.137   -3807.707     523.102\n",
      "Avg_price             6.1869      0.309     20.022      0.000       5.580       6.793\n",
      "Days                 -0.0404      0.024     -1.659      0.098      -0.088       0.007\n",
      "Avg_nights          105.5876     36.804      2.869      0.004      33.347     177.828\n",
      "==============================================================================\n",
      "Omnibus:                      494.842   Durbin-Watson:                   2.031\n",
      "Prob(Omnibus):                  0.000   Jarque-Bera (JB):            95475.030\n",
      "Skew:                          -1.582   Prob(JB):                         0.00\n",
      "Kurtosis:                      55.352   Cond. No.                     7.95e+04\n",
      "==============================================================================\n",
      "\n",
      "Notes:\n",
      "[1] Standard Errors assume that the covariance matrix of the errors is correctly specified.\n",
      "[2] The condition number is large, 7.95e+04. This might indicate that there are\n",
      "strong multicollinearity or other numerical problems.\n"
     ]
    }
   ],
   "source": [
    "#Resumen\n",
    "print(train.summary())"
   ]
  },
  {
   "cell_type": "code",
   "execution_count": 86,
   "metadata": {},
   "outputs": [],
   "source": [
    "# Modelo 2\n",
    "\n",
    "model2= ols(formula='Avg_income~Bedrooms+Bathrooms+Max_Guests+Pets_Allowed+Number_of_Reviews+Avg_price',data=data)\n",
    "\n",
    "                    \n",
    "train2=model2.fit()"
   ]
  },
  {
   "cell_type": "code",
   "execution_count": 87,
   "metadata": {
    "scrolled": true
   },
   "outputs": [
    {
     "data": {
      "text/plain": [
       "Intercept             82.710188\n",
       "Bedrooms             -48.645991\n",
       "Bathrooms             37.584829\n",
       "Max_Guests            43.440727\n",
       "Pets_Allowed        -115.868300\n",
       "Number_of_Reviews      7.433832\n",
       "Avg_price              5.689614\n",
       "dtype: float64"
      ]
     },
     "execution_count": 87,
     "metadata": {},
     "output_type": "execute_result"
    }
   ],
   "source": [
    "#Coeficientes 2\n",
    "train2.params"
   ]
  },
  {
   "cell_type": "code",
   "execution_count": 88,
   "metadata": {},
   "outputs": [
    {
     "name": "stdout",
     "output_type": "stream",
     "text": [
      "                            OLS Regression Results                            \n",
      "==============================================================================\n",
      "Dep. Variable:             Avg_income   R-squared:                       0.427\n",
      "Model:                            OLS   Adj. R-squared:                  0.422\n",
      "Method:                 Least Squares   F-statistic:                     102.4\n",
      "Date:                Sat, 30 Apr 2022   Prob (F-statistic):           2.91e-96\n",
      "Time:                        18:38:27   Log-Likelihood:                -6283.0\n",
      "No. Observations:                 833   AIC:                         1.258e+04\n",
      "Df Residuals:                     826   BIC:                         1.261e+04\n",
      "Df Model:                           6                                         \n",
      "Covariance Type:            nonrobust                                         \n",
      "=====================================================================================\n",
      "                        coef    std err          t      P>|t|      [0.025      0.975]\n",
      "-------------------------------------------------------------------------------------\n",
      "Intercept            82.7102     47.298      1.749      0.081     -10.129     175.550\n",
      "Bedrooms            -48.6460     34.257     -1.420      0.156    -115.886      18.594\n",
      "Bathrooms            37.5848     24.377      1.542      0.124     -10.263      85.433\n",
      "Max_Guests           43.4407     15.988      2.717      0.007      12.060      74.822\n",
      "Pets_Allowed       -115.8683     36.094     -3.210      0.001    -186.715     -45.022\n",
      "Number_of_Reviews     7.4338      0.675     11.009      0.000       6.108       8.759\n",
      "Avg_price             5.6896      0.456     12.466      0.000       4.794       6.585\n",
      "==============================================================================\n",
      "Omnibus:                      178.933   Durbin-Watson:                   1.888\n",
      "Prob(Omnibus):                  0.000   Jarque-Bera (JB):             5586.681\n",
      "Skew:                          -0.035   Prob(JB):                         0.00\n",
      "Kurtosis:                      15.687   Cond. No.                         245.\n",
      "==============================================================================\n",
      "\n",
      "Notes:\n",
      "[1] Standard Errors assume that the covariance matrix of the errors is correctly specified.\n"
     ]
    }
   ],
   "source": [
    "#Resumen\n",
    "print(train2.summary())"
   ]
  },
  {
   "cell_type": "code",
   "execution_count": 97,
   "metadata": {},
   "outputs": [],
   "source": [
    "# Modelo 3\n",
    "\n",
    "model3= ols(formula='Avg_income~Bedrooms+Max_Guests+Pets_Allowed+Number_of_Reviews+Avg_price',data=data)\n",
    "\n",
    "                    \n",
    "train3=model3.fit()"
   ]
  },
  {
   "cell_type": "code",
   "execution_count": 98,
   "metadata": {},
   "outputs": [
    {
     "data": {
      "text/plain": [
       "Intercept             98.438269\n",
       "Bedrooms             -34.191561\n",
       "Max_Guests            46.435763\n",
       "Pets_Allowed        -116.709865\n",
       "Number_of_Reviews      7.382984\n",
       "Avg_price              5.936257\n",
       "dtype: float64"
      ]
     },
     "execution_count": 98,
     "metadata": {},
     "output_type": "execute_result"
    }
   ],
   "source": [
    "#Coeficientes 2\n",
    "train3.params"
   ]
  },
  {
   "cell_type": "code",
   "execution_count": 99,
   "metadata": {},
   "outputs": [
    {
     "name": "stdout",
     "output_type": "stream",
     "text": [
      "                            OLS Regression Results                            \n",
      "==============================================================================\n",
      "Dep. Variable:             Avg_income   R-squared:                       0.425\n",
      "Model:                            OLS   Adj. R-squared:                  0.421\n",
      "Method:                 Least Squares   F-statistic:                     122.2\n",
      "Date:                Sat, 30 Apr 2022   Prob (F-statistic):           8.14e-97\n",
      "Time:                        18:44:25   Log-Likelihood:                -6284.2\n",
      "No. Observations:                 833   AIC:                         1.258e+04\n",
      "Df Residuals:                     827   BIC:                         1.261e+04\n",
      "Df Model:                           5                                         \n",
      "Covariance Type:            nonrobust                                         \n",
      "=====================================================================================\n",
      "                        coef    std err          t      P>|t|      [0.025      0.975]\n",
      "-------------------------------------------------------------------------------------\n",
      "Intercept            98.4383     46.224      2.130      0.033       7.709     189.168\n",
      "Bedrooms            -34.1916     32.976     -1.037      0.300     -98.918      30.535\n",
      "Max_Guests           46.4358     15.882      2.924      0.004      15.261      77.610\n",
      "Pets_Allowed       -116.7099     36.120     -3.231      0.001    -187.607     -45.812\n",
      "Number_of_Reviews     7.3830      0.675     10.938      0.000       6.058       8.708\n",
      "Avg_price             5.9363      0.428     13.876      0.000       5.097       6.776\n",
      "==============================================================================\n",
      "Omnibus:                      183.643   Durbin-Watson:                   1.879\n",
      "Prob(Omnibus):                  0.000   Jarque-Bera (JB):             6075.602\n",
      "Skew:                          -0.087   Prob(JB):                         0.00\n",
      "Kurtosis:                      16.229   Cond. No.                         243.\n",
      "==============================================================================\n",
      "\n",
      "Notes:\n",
      "[1] Standard Errors assume that the covariance matrix of the errors is correctly specified.\n"
     ]
    }
   ],
   "source": [
    "#Resumen\n",
    "print(train3.summary())"
   ]
  },
  {
   "cell_type": "code",
   "execution_count": 101,
   "metadata": {},
   "outputs": [
    {
     "name": "stdout",
     "output_type": "stream",
     "text": [
      "0       463.611599\n",
      "1       121.237285\n",
      "2      1125.498923\n",
      "3       698.746899\n",
      "4       419.722754\n",
      "          ...     \n",
      "829     629.707407\n",
      "830     743.861669\n",
      "831      62.557321\n",
      "832     162.363360\n",
      "833     382.538365\n",
      "Length: 833, dtype: float64\n"
     ]
    }
   ],
   "source": [
    "predictions=train3.predict(data[[\"Bedrooms\",\"Max_Guests\",\"Pets_Allowed\",\"Number_of_Reviews\",\"Avg_price\"]])\n",
    "print(predictions)"
   ]
  },
  {
   "cell_type": "code",
   "execution_count": 102,
   "metadata": {},
   "outputs": [
    {
     "name": "stderr",
     "output_type": "stream",
     "text": [
      "<ipython-input-102-55cbb3ccbf32>:3: SettingWithCopyWarning: \n",
      "A value is trying to be set on a copy of a slice from a DataFrame.\n",
      "Try using .loc[row_indexer,col_indexer] = value instead\n",
      "\n",
      "See the caveats in the documentation: https://pandas.pydata.org/pandas-docs/stable/user_guide/indexing.html#returning-a-view-versus-a-copy\n",
      "  data['Prediction']=predictions\n"
     ]
    }
   ],
   "source": [
    "# Predición del modelo\n",
    "\n",
    "data['Prediction']=predictions"
   ]
  },
  {
   "cell_type": "code",
   "execution_count": 108,
   "metadata": {},
   "outputs": [
    {
     "data": {
      "text/html": [
       "<div>\n",
       "<style scoped>\n",
       "    .dataframe tbody tr th:only-of-type {\n",
       "        vertical-align: middle;\n",
       "    }\n",
       "\n",
       "    .dataframe tbody tr th {\n",
       "        vertical-align: top;\n",
       "    }\n",
       "\n",
       "    .dataframe thead th {\n",
       "        text-align: right;\n",
       "    }\n",
       "</style>\n",
       "<table border=\"1\" class=\"dataframe\">\n",
       "  <thead>\n",
       "    <tr style=\"text-align: right;\">\n",
       "      <th></th>\n",
       "      <th>Bedrooms</th>\n",
       "      <th>Bathrooms</th>\n",
       "      <th>Max_Guests</th>\n",
       "      <th>Pets_Allowed</th>\n",
       "      <th>Amenities</th>\n",
       "      <th>Overall_Rating</th>\n",
       "      <th>Number_of_Reviews</th>\n",
       "      <th>Number_of_Photos</th>\n",
       "      <th>Occupancy_Rate</th>\n",
       "      <th>Avg_price</th>\n",
       "      <th>Days</th>\n",
       "      <th>Avg_nights</th>\n",
       "      <th>Avg_income</th>\n",
       "      <th>Prediction</th>\n",
       "    </tr>\n",
       "  </thead>\n",
       "  <tbody>\n",
       "    <tr>\n",
       "      <th>0</th>\n",
       "      <td>2</td>\n",
       "      <td>1</td>\n",
       "      <td>5</td>\n",
       "      <td>1</td>\n",
       "      <td>25</td>\n",
       "      <td>90</td>\n",
       "      <td>22</td>\n",
       "      <td>29</td>\n",
       "      <td>0.50</td>\n",
       "      <td>26.222222</td>\n",
       "      <td>2266</td>\n",
       "      <td>15</td>\n",
       "      <td>393.33</td>\n",
       "      <td>463.61</td>\n",
       "    </tr>\n",
       "    <tr>\n",
       "      <th>1</th>\n",
       "      <td>2</td>\n",
       "      <td>2</td>\n",
       "      <td>4</td>\n",
       "      <td>1</td>\n",
       "      <td>13</td>\n",
       "      <td>100</td>\n",
       "      <td>3</td>\n",
       "      <td>18</td>\n",
       "      <td>0.00</td>\n",
       "      <td>0.000000</td>\n",
       "      <td>2122</td>\n",
       "      <td>0</td>\n",
       "      <td>0.00</td>\n",
       "      <td>121.24</td>\n",
       "    </tr>\n",
       "    <tr>\n",
       "      <th>2</th>\n",
       "      <td>3</td>\n",
       "      <td>2</td>\n",
       "      <td>5</td>\n",
       "      <td>0</td>\n",
       "      <td>32</td>\n",
       "      <td>100</td>\n",
       "      <td>71</td>\n",
       "      <td>37</td>\n",
       "      <td>0.83</td>\n",
       "      <td>62.878788</td>\n",
       "      <td>1048</td>\n",
       "      <td>24</td>\n",
       "      <td>1509.09</td>\n",
       "      <td>1125.50</td>\n",
       "    </tr>\n",
       "    <tr>\n",
       "      <th>3</th>\n",
       "      <td>2</td>\n",
       "      <td>2</td>\n",
       "      <td>4</td>\n",
       "      <td>0</td>\n",
       "      <td>31</td>\n",
       "      <td>100</td>\n",
       "      <td>41</td>\n",
       "      <td>25</td>\n",
       "      <td>0.64</td>\n",
       "      <td>30.363636</td>\n",
       "      <td>1887</td>\n",
       "      <td>19</td>\n",
       "      <td>576.91</td>\n",
       "      <td>698.75</td>\n",
       "    </tr>\n",
       "    <tr>\n",
       "      <th>4</th>\n",
       "      <td>2</td>\n",
       "      <td>1</td>\n",
       "      <td>5</td>\n",
       "      <td>1</td>\n",
       "      <td>24</td>\n",
       "      <td>90</td>\n",
       "      <td>19</td>\n",
       "      <td>20</td>\n",
       "      <td>0.39</td>\n",
       "      <td>22.560000</td>\n",
       "      <td>2122</td>\n",
       "      <td>11</td>\n",
       "      <td>248.16</td>\n",
       "      <td>419.72</td>\n",
       "    </tr>\n",
       "  </tbody>\n",
       "</table>\n",
       "</div>"
      ],
      "text/plain": [
       "   Bedrooms  Bathrooms  Max_Guests  Pets_Allowed  Amenities  Overall_Rating  \\\n",
       "0         2          1           5             1         25              90   \n",
       "1         2          2           4             1         13             100   \n",
       "2         3          2           5             0         32             100   \n",
       "3         2          2           4             0         31             100   \n",
       "4         2          1           5             1         24              90   \n",
       "\n",
       "   Number_of_Reviews  Number_of_Photos  Occupancy_Rate  Avg_price  Days  \\\n",
       "0                 22                29            0.50  26.222222  2266   \n",
       "1                  3                18            0.00   0.000000  2122   \n",
       "2                 71                37            0.83  62.878788  1048   \n",
       "3                 41                25            0.64  30.363636  1887   \n",
       "4                 19                20            0.39  22.560000  2122   \n",
       "\n",
       "   Avg_nights  Avg_income  Prediction  \n",
       "0          15      393.33      463.61  \n",
       "1           0        0.00      121.24  \n",
       "2          24     1509.09     1125.50  \n",
       "3          19      576.91      698.75  \n",
       "4          11      248.16      419.72  "
      ]
     },
     "execution_count": 108,
     "metadata": {},
     "output_type": "execute_result"
    }
   ],
   "source": [
    "data.head(5)"
   ]
  },
  {
   "cell_type": "code",
   "execution_count": 107,
   "metadata": {},
   "outputs": [
    {
     "name": "stderr",
     "output_type": "stream",
     "text": [
      "<ipython-input-107-312a8b764236>:1: SettingWithCopyWarning: \n",
      "A value is trying to be set on a copy of a slice from a DataFrame.\n",
      "Try using .loc[row_indexer,col_indexer] = value instead\n",
      "\n",
      "See the caveats in the documentation: https://pandas.pydata.org/pandas-docs/stable/user_guide/indexing.html#returning-a-view-versus-a-copy\n",
      "  data['Prediction']=round(data[\"Prediction\"],ndigits=2)\n"
     ]
    }
   ],
   "source": [
    "data['Prediction']=round(data[\"Prediction\"],ndigits=2)"
   ]
  },
  {
   "cell_type": "code",
   "execution_count": 114,
   "metadata": {},
   "outputs": [
    {
     "data": {
      "image/png": "[encoded data removed]",
      "text/plain": [
       "<Figure size 720x432 with 1 Axes>"
      ]
     },
     "metadata": {
      "needs_background": "light"
     },
     "output_type": "display_data"
    }
   ],
   "source": [
    "from matplotlib import rcParams\n",
    "rcParams['figure.figsize']=10,6\n",
    "plt.plot(data.Avg_income)\n",
    "plt.plot(data.Prediction)\n",
    "plt.title(\"Predicción del modelo de Regresión Lineal(OlS)\")\n",
    "plt.legend(['Income','Predicción'])\n",
    "plt.grid(True)\n",
    "plt.show()"
   ]
  },
  {
   "cell_type": "markdown",
   "metadata": {},
   "source": [
    "<h4> Correlación del número de habitaciones y el ingreso promedio."
   ]
  },
  {
   "cell_type": "code",
   "execution_count": 113,
   "metadata": {
    "scrolled": false
   },
   "outputs": [
    {
     "name": "stderr",
     "output_type": "stream",
     "text": [
      "C:\\Users\\lui_s\\anaconda3\\lib\\site-packages\\seaborn\\_decorators.py:36: FutureWarning: Pass the following variables as keyword args: x, y. From version 0.12, the only valid positional argument will be `data`, and passing other arguments without an explicit keyword will result in an error or misinterpretation.\n",
      "  warnings.warn(\n"
     ]
    },
    {
     "data": {
      "text/plain": [
       "<AxesSubplot:xlabel='Bedrooms', ylabel='Avg_income'>"
      ]
     },
     "execution_count": 113,
     "metadata": {},
     "output_type": "execute_result"
    },
    {
     "data": {
      "image/png": "[encoded data removed]",
      "text/plain": [
       "<Figure size 720x432 with 1 Axes>"
      ]
     },
     "metadata": {
      "needs_background": "light"
     },
     "output_type": "display_data"
    }
   ],
   "source": [
    "sns.lineplot('Bedrooms','Avg_income', data=data)"
   ]
  },
  {
   "cell_type": "code",
   "execution_count": null,
   "metadata": {},
   "outputs": [],
   "source": []
  }
 ],
 "metadata": {
  "kernelspec": {
   "display_name": "Python 3",
   "language": "python",
   "name": "python3"
  },
  "language_info": {
   "codemirror_mode": {
    "name": "ipython",
    "version": 3
   },
   "file_extension": ".py",
   "mimetype": "text/x-python",
   "name": "python",
   "nbconvert_exporter": "python",
   "pygments_lexer": "ipython3",
   "version": "3.8.5"
  }
 },
 "nbformat": 4,
 "nbformat_minor": 4
}
